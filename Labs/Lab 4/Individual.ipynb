{
 "cells": [
  {
   "cell_type": "code",
   "execution_count": null,
   "metadata": {},
   "outputs": [],
   "source": [
    "# Individual Assignment\n",
    "# Mason Wheeler\n",
    "# Creating my own 5-band equalizer\n"
   ]
  },
  {
   "cell_type": "markdown",
   "metadata": {},
   "source": [
    "Sub-bass: 20 to 60 Hz\n",
    "Bass: 60 to 250 Hz\n",
    "Lower midrange: 250 to 500 Hz\n",
    "Midrange: 500 to 2 kHz\n",
    "Upper midrange: 2 to 4 kHz\n",
    "Presence: 4 to 6 kHz\n",
    "Brilliance: 6 to 20 kHz\n"
   ]
  },
  {
   "cell_type": "code",
   "execution_count": null,
   "metadata": {
    "ExecuteTime": {
     "end_time": "2023-06-06T18:33:39.066622Z",
     "start_time": "2023-06-06T18:33:39.029004Z"
    }
   },
   "outputs": [],
   "source": [
    "import numpy as np\n",
    "from scipy.io import wavfile\n",
    "from scipy import signal\n",
    "import simpleaudio as sa\n",
    "\n",
    "# Define the cutoff frequencies for the 5 bands in terms of Nyquist rate\n",
    "cutoffs = [0.01, 0.05, 0.1, 0.4, 0.8, 1.0]  # Adjust as necessary\n",
    "orders = [5] * 6  # Use 5th order filters\n",
    "\n",
    "# Create filters for the bands\n",
    "filters = [signal.butter(order, cutoff, 'low' if i == 0 else 'high' if i == len(cutoffs)-1 else 'band',\n",
    "                         btype='butter', analog=False, output='ba')\n",
    "           for i, (order, cutoff) in enumerate(zip(orders, cutoffs))]\n",
    "\n",
    "# Function to equalize audio\n",
    "def equalize_audio(audio, gains):\n",
    "    assert len(gains) == len(filters), \"Number of gains must equal number of filters\"\n",
    "\n",
    "    # Apply each filter and gain to the audio and sum the results\n",
    "    equalized_audio = sum(gain * signal.lfilter(b, a, audio) for (b, a), gain in zip(filters, gains))\n",
    "    return equalized_audio\n",
    "\n",
    "# Load audio\n",
    "fs, audio = wavfile.read('music.wav')\n",
    "audio = audio.astype(float)\n",
    "\n",
    "# Equalize the audio\n",
    "gains = [1.0, 0.8, 1.2, 0.9, 1.1, 0.95]  # Sample gains; adjust as necessary\n",
    "equalized_audio = equalize_audio(audio, gains)\n",
    "\n",
    "# Save equalized audio\n",
    "wavfile.write('equalized_music.wav', fs, equalized_audio.astype(np.int16))\n",
    "\n",
    "# Play the original and equalized audio for comparison\n",
    "print(\"Playing original audio...\")\n",
    "sa.play_buffer(audio.astype(np.int16), 1, 2, fs).wait_done()\n",
    "print(\"Playing equalized audio...\")\n",
    "sa.play_buffer(equalized_audio.astype(np.int16), 1, 2, fs).wait_done()"
   ]
  }
 ],
 "metadata": {
  "kernelspec": {
   "display_name": "Python 3 (ipykernel)",
   "language": "python",
   "name": "python3"
  },
  "language_info": {
   "codemirror_mode": {
    "name": "ipython",
    "version": 3
   },
   "file_extension": ".py",
   "mimetype": "text/x-python",
   "name": "python",
   "nbconvert_exporter": "python",
   "pygments_lexer": "ipython3",
   "version": "3.9.12"
  }
 },
 "nbformat": 4,
 "nbformat_minor": 1
}
