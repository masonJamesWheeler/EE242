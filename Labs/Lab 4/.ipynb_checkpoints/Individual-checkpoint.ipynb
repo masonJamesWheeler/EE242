{
 "cells": [
  {
   "cell_type": "code",
   "execution_count": null,
   "metadata": {},
   "outputs": [],
   "source": [
    "# Individual Assignment\n",
    "# Mason Wheeler\n",
    "# Creating my own 5-band equalizer\n"
   ]
  },
  {
   "cell_type": "markdown",
   "metadata": {},
   "source": [
    "Sub-bass: 20 to 60 Hz\n",
    "Bass: 60 to 250 Hz\n",
    "Lower midrange: 250 to 500 Hz\n",
    "Midrange: 500 to 2 kHz\n",
    "Upper midrange: 2 to 4 kHz\n",
    "Presence: 4 to 6 kHz\n",
    "Brilliance: 6 to 20 kHz\n"
   ]
  },
  {
   "cell_type": "code",
   "execution_count": 2,
   "metadata": {
    "ExecuteTime": {
     "end_time": "2023-06-06T18:33:39.066622Z",
     "start_time": "2023-06-06T18:33:39.029004Z"
    }
   },
   "outputs": [
    {
     "ename": "TypeError",
     "evalue": "butter() got multiple values for argument 'btype'",
     "output_type": "error",
     "traceback": [
      "\u001b[0;31m---------------------------------------------------------------------------\u001b[0m",
      "\u001b[0;31mTypeError\u001b[0m                                 Traceback (most recent call last)",
      "Input \u001b[0;32mIn [2]\u001b[0m, in \u001b[0;36m<cell line: 11>\u001b[0;34m()\u001b[0m\n\u001b[1;32m      8\u001b[0m orders \u001b[38;5;241m=\u001b[39m [\u001b[38;5;241m5\u001b[39m] \u001b[38;5;241m*\u001b[39m \u001b[38;5;241m6\u001b[39m  \u001b[38;5;66;03m# Use 5th order filters\u001b[39;00m\n\u001b[1;32m     10\u001b[0m \u001b[38;5;66;03m# Create filters for the bands\u001b[39;00m\n\u001b[0;32m---> 11\u001b[0m filters \u001b[38;5;241m=\u001b[39m [signal\u001b[38;5;241m.\u001b[39mbutter(order, cutoff, \u001b[38;5;124m'\u001b[39m\u001b[38;5;124mlow\u001b[39m\u001b[38;5;124m'\u001b[39m \u001b[38;5;28;01mif\u001b[39;00m i \u001b[38;5;241m==\u001b[39m \u001b[38;5;241m0\u001b[39m \u001b[38;5;28;01melse\u001b[39;00m \u001b[38;5;124m'\u001b[39m\u001b[38;5;124mhigh\u001b[39m\u001b[38;5;124m'\u001b[39m \u001b[38;5;28;01mif\u001b[39;00m i \u001b[38;5;241m==\u001b[39m \u001b[38;5;28mlen\u001b[39m(cutoffs)\u001b[38;5;241m-\u001b[39m\u001b[38;5;241m1\u001b[39m \u001b[38;5;28;01melse\u001b[39;00m \u001b[38;5;124m'\u001b[39m\u001b[38;5;124mband\u001b[39m\u001b[38;5;124m'\u001b[39m,\n\u001b[1;32m     12\u001b[0m                          btype\u001b[38;5;241m=\u001b[39m\u001b[38;5;124m'\u001b[39m\u001b[38;5;124mbutter\u001b[39m\u001b[38;5;124m'\u001b[39m, analog\u001b[38;5;241m=\u001b[39m\u001b[38;5;28;01mFalse\u001b[39;00m, output\u001b[38;5;241m=\u001b[39m\u001b[38;5;124m'\u001b[39m\u001b[38;5;124mba\u001b[39m\u001b[38;5;124m'\u001b[39m)\n\u001b[1;32m     13\u001b[0m            \u001b[38;5;28;01mfor\u001b[39;00m i, (order, cutoff) \u001b[38;5;129;01min\u001b[39;00m \u001b[38;5;28menumerate\u001b[39m(\u001b[38;5;28mzip\u001b[39m(orders, cutoffs))]\n\u001b[1;32m     15\u001b[0m \u001b[38;5;66;03m# Function to equalize audio\u001b[39;00m\n\u001b[1;32m     16\u001b[0m \u001b[38;5;28;01mdef\u001b[39;00m \u001b[38;5;21mequalize_audio\u001b[39m(audio, gains):\n",
      "Input \u001b[0;32mIn [2]\u001b[0m, in \u001b[0;36m<listcomp>\u001b[0;34m(.0)\u001b[0m\n\u001b[1;32m      8\u001b[0m orders \u001b[38;5;241m=\u001b[39m [\u001b[38;5;241m5\u001b[39m] \u001b[38;5;241m*\u001b[39m \u001b[38;5;241m6\u001b[39m  \u001b[38;5;66;03m# Use 5th order filters\u001b[39;00m\n\u001b[1;32m     10\u001b[0m \u001b[38;5;66;03m# Create filters for the bands\u001b[39;00m\n\u001b[0;32m---> 11\u001b[0m filters \u001b[38;5;241m=\u001b[39m [\u001b[43msignal\u001b[49m\u001b[38;5;241;43m.\u001b[39;49m\u001b[43mbutter\u001b[49m\u001b[43m(\u001b[49m\u001b[43morder\u001b[49m\u001b[43m,\u001b[49m\u001b[43m \u001b[49m\u001b[43mcutoff\u001b[49m\u001b[43m,\u001b[49m\u001b[43m \u001b[49m\u001b[38;5;124;43m'\u001b[39;49m\u001b[38;5;124;43mlow\u001b[39;49m\u001b[38;5;124;43m'\u001b[39;49m\u001b[43m \u001b[49m\u001b[38;5;28;43;01mif\u001b[39;49;00m\u001b[43m \u001b[49m\u001b[43mi\u001b[49m\u001b[43m \u001b[49m\u001b[38;5;241;43m==\u001b[39;49m\u001b[43m \u001b[49m\u001b[38;5;241;43m0\u001b[39;49m\u001b[43m \u001b[49m\u001b[38;5;28;43;01melse\u001b[39;49;00m\u001b[43m \u001b[49m\u001b[38;5;124;43m'\u001b[39;49m\u001b[38;5;124;43mhigh\u001b[39;49m\u001b[38;5;124;43m'\u001b[39;49m\u001b[43m \u001b[49m\u001b[38;5;28;43;01mif\u001b[39;49;00m\u001b[43m \u001b[49m\u001b[43mi\u001b[49m\u001b[43m \u001b[49m\u001b[38;5;241;43m==\u001b[39;49m\u001b[43m \u001b[49m\u001b[38;5;28;43mlen\u001b[39;49m\u001b[43m(\u001b[49m\u001b[43mcutoffs\u001b[49m\u001b[43m)\u001b[49m\u001b[38;5;241;43m-\u001b[39;49m\u001b[38;5;241;43m1\u001b[39;49m\u001b[43m \u001b[49m\u001b[38;5;28;43;01melse\u001b[39;49;00m\u001b[43m \u001b[49m\u001b[38;5;124;43m'\u001b[39;49m\u001b[38;5;124;43mband\u001b[39;49m\u001b[38;5;124;43m'\u001b[39;49m\u001b[43m,\u001b[49m\n\u001b[1;32m     12\u001b[0m \u001b[43m                         \u001b[49m\u001b[43mbtype\u001b[49m\u001b[38;5;241;43m=\u001b[39;49m\u001b[38;5;124;43m'\u001b[39;49m\u001b[38;5;124;43mbutter\u001b[39;49m\u001b[38;5;124;43m'\u001b[39;49m\u001b[43m,\u001b[49m\u001b[43m \u001b[49m\u001b[43manalog\u001b[49m\u001b[38;5;241;43m=\u001b[39;49m\u001b[38;5;28;43;01mFalse\u001b[39;49;00m\u001b[43m,\u001b[49m\u001b[43m \u001b[49m\u001b[43moutput\u001b[49m\u001b[38;5;241;43m=\u001b[39;49m\u001b[38;5;124;43m'\u001b[39;49m\u001b[38;5;124;43mba\u001b[39;49m\u001b[38;5;124;43m'\u001b[39;49m\u001b[43m)\u001b[49m\n\u001b[1;32m     13\u001b[0m            \u001b[38;5;28;01mfor\u001b[39;00m i, (order, cutoff) \u001b[38;5;129;01min\u001b[39;00m \u001b[38;5;28menumerate\u001b[39m(\u001b[38;5;28mzip\u001b[39m(orders, cutoffs))]\n\u001b[1;32m     15\u001b[0m \u001b[38;5;66;03m# Function to equalize audio\u001b[39;00m\n\u001b[1;32m     16\u001b[0m \u001b[38;5;28;01mdef\u001b[39;00m \u001b[38;5;21mequalize_audio\u001b[39m(audio, gains):\n",
      "\u001b[0;31mTypeError\u001b[0m: butter() got multiple values for argument 'btype'"
     ]
    }
   ],
   "source": [
    "import numpy as np\n",
    "from scipy.io import wavfile\n",
    "from scipy import signal\n",
    "import simpleaudio as sa\n",
    "\n",
    "# Define the cutoff frequencies for the 5 bands in terms of Nyquist rate\n",
    "cutoffs = [0.01, 0.05, 0.1, 0.4, 0.8, 1.0]  # Adjust as necessary\n",
    "orders = [5] * 6  # Use 5th order filters\n",
    "\n",
    "# Create filters for the bands\n",
    "filters = [signal.butter(order, cutoff, 'low' if i == 0 else 'high' if i == len(cutoffs)-1 else 'band',\n",
    "                         btype='butter', analog=False, output='ba')\n",
    "           for i, (order, cutoff) in enumerate(zip(orders, cutoffs))]\n",
    "\n",
    "# Function to equalize audio\n",
    "def equalize_audio(audio, gains):\n",
    "    assert len(gains) == len(filters), \"Number of gains must equal number of filters\"\n",
    "\n",
    "    # Apply each filter and gain to the audio and sum the results\n",
    "    equalized_audio = sum(gain * signal.lfilter(b, a, audio) for (b, a), gain in zip(filters, gains))\n",
    "    return equalized_audio\n",
    "\n",
    "# Load audio\n",
    "fs, audio = wavfile.read('music.wav')\n",
    "audio = audio.astype(float)\n",
    "\n",
    "# Equalize the audio\n",
    "gains = [1.0, 0.8, 1.2, 0.9, 1.1, 0.95]  # Sample gains; adjust as necessary\n",
    "equalized_audio = equalize_audio(audio, gains)\n",
    "\n",
    "# Save equalized audio\n",
    "wavfile.write('equalized_music.wav', fs, equalized_audio.astype(np.int16))\n",
    "\n",
    "# Play the original and equalized audio for comparison\n",
    "print(\"Playing original audio...\")\n",
    "sa.play_buffer(audio.astype(np.int16), 1, 2, fs).wait_done()\n",
    "print(\"Playing equalized audio...\")\n",
    "sa.play_buffer(equalized_audio.astype(np.int16), 1, 2, fs).wait_done()"
   ]
  }
 ],
 "metadata": {
  "kernelspec": {
   "display_name": "Python 3 (ipykernel)",
   "language": "python",
   "name": "python3"
  },
  "language_info": {
   "codemirror_mode": {
    "name": "ipython",
    "version": 3
   },
   "file_extension": ".py",
   "mimetype": "text/x-python",
   "name": "python",
   "nbconvert_exporter": "python",
   "pygments_lexer": "ipython3",
   "version": "3.9.12"
  }
 },
 "nbformat": 4,
 "nbformat_minor": 1
}
